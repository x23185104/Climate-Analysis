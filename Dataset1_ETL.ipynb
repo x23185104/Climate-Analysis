{
 "cells": [
  {
   "cell_type": "code",
   "execution_count": 7,
   "id": "fcb17842-2623-48b0-ab95-70d8d9f20915",
   "metadata": {},
   "outputs": [],
   "source": [
    "import pymongo\n",
    "import pandas as pd"
   ]
  },
  {
   "cell_type": "code",
   "execution_count": 15,
   "id": "c439164a-3d60-4d36-b298-765582a4e2e8",
   "metadata": {},
   "outputs": [],
   "source": [
    "climate_data_csv =pd.read_csv(r\"climate_change_data.csv\")\n",
    "climate_data_csv = climate_data_csv.rename(columns={\n",
    "    'Date': 'date',\n",
    "    'Location': 'location',\n",
    "    'Country' : 'country',\n",
    "    'Temperature': 'temperature',\n",
    "    'CO2 Emissions': 'co2_emissions',\n",
    "    'Sea Level Rise': 'sea_level_rise',\n",
    "    'Precipitation': 'precipitation',\n",
    "    'Humidity': 'humidity',\n",
    "    'Wind Speed': 'wind_speed'\n",
    "})"
   ]
  },
  {
   "cell_type": "code",
   "execution_count": 16,
   "id": "ded8d37c-6772-4387-8cb9-f8439fe4901d",
   "metadata": {},
   "outputs": [],
   "source": [
    "data = []\n",
    "for index, row in climate_data_csv.iterrows():\n",
    "  row_dict = row.to_dict()\n",
    "  data.append(row_dict)"
   ]
  },
  {
   "cell_type": "code",
   "execution_count": 17,
   "id": "31a8a22c-60df-43cf-87c2-9f0804fc8fba",
   "metadata": {},
   "outputs": [],
   "source": [
    "data = []\n",
    "for index, row in climate_data_csv.iterrows():\n",
    "  row_dict = row.to_dict()\n",
    "  data.append(row_dict)"
   ]
  },
  {
   "cell_type": "code",
   "execution_count": 18,
   "id": "053e93a2-b93d-49f3-92ae-010815d86ee5",
   "metadata": {},
   "outputs": [],
   "source": [
    "uri = \"http://localhost:27017/\""
   ]
  },
  {
   "cell_type": "code",
   "execution_count": 19,
   "id": "82833735-3c38-486c-995f-63364692c04a",
   "metadata": {},
   "outputs": [
    {
     "name": "stdout",
     "output_type": "stream",
     "text": [
      "Completed Insertion of data to MongoDB\n"
     ]
    }
   ],
   "source": [
    "from pymongo import MongoClient\n",
    "client = MongoClient(host='localhost', port=27017)\n",
    "\n",
    "# Connect to the database\n",
    "db = client['DAP_Project']\n",
    "\n",
    "# Connect to the collection\n",
    "collection = db['climate_analysis']\n",
    "\n",
    "# Insert the data into the collection\n",
    "collection.insert_many(data)\n",
    "print(\"Completed Insertion of data to MongoDB\")\n",
    "\n",
    "# Close the client connection\n",
    "client.close()"
   ]
  },
  {
   "cell_type": "code",
   "execution_count": 8,
   "id": "061f57da-1ca5-4095-9f3b-17f5fab0e965",
   "metadata": {},
   "outputs": [
    {
     "name": "stdout",
     "output_type": "stream",
     "text": [
      "Requirement already satisfied: psycopg2 in c:\\users\\melin\\anaconda3\\lib\\site-packages (2.9.9)\n",
      "Note: you may need to restart the kernel to use updated packages.\n"
     ]
    }
   ],
   "source": [
    "pip install psycopg2"
   ]
  },
  {
   "cell_type": "code",
   "execution_count": 9,
   "id": "71f359f4-95d4-4fe0-b074-b115f041145f",
   "metadata": {},
   "outputs": [
    {
     "name": "stdout",
     "output_type": "stream",
     "text": [
      "Requirement already satisfied: luigi in c:\\users\\melin\\anaconda3\\lib\\site-packages (3.5.0)\n",
      "Requirement already satisfied: python-dateutil<3,>=2.7.5 in c:\\users\\melin\\anaconda3\\lib\\site-packages (from luigi) (2.8.2)\n",
      "Requirement already satisfied: tenacity<9,>=8 in c:\\users\\melin\\anaconda3\\lib\\site-packages (from luigi) (8.2.2)\n",
      "Requirement already satisfied: python-daemon in c:\\users\\melin\\anaconda3\\lib\\site-packages (from luigi) (3.0.1)\n",
      "Requirement already satisfied: tornado<7,>=5.0 in c:\\users\\melin\\anaconda3\\lib\\site-packages (from luigi) (6.3.3)\n",
      "Requirement already satisfied: six>=1.5 in c:\\users\\melin\\anaconda3\\lib\\site-packages (from python-dateutil<3,>=2.7.5->luigi) (1.16.0)\n",
      "Requirement already satisfied: docutils in c:\\users\\melin\\anaconda3\\lib\\site-packages (from python-daemon->luigi) (0.18.1)\n",
      "Requirement already satisfied: lockfile>=0.10 in c:\\users\\melin\\anaconda3\\lib\\site-packages (from python-daemon->luigi) (0.12.2)\n",
      "Requirement already satisfied: setuptools>=62.4.0 in c:\\users\\melin\\anaconda3\\lib\\site-packages (from python-daemon->luigi) (68.0.0)\n",
      "Note: you may need to restart the kernel to use updated packages.\n"
     ]
    }
   ],
   "source": [
    "pip install luigi"
   ]
  },
  {
   "cell_type": "markdown",
   "id": "6a54efc0-4fd0-4784-a6fa-65296e6c2865",
   "metadata": {},
   "source": [
    "ETL"
   ]
  },
  {
   "cell_type": "code",
   "execution_count": 37,
   "id": "808de5ff-5567-4e5c-96e1-fb8bf6adc507",
   "metadata": {},
   "outputs": [
    {
     "name": "stderr",
     "output_type": "stream",
     "text": [
      "DEBUG: Checking if LoadTask(target_table=climate_analysis) is complete\n",
      "C:\\Users\\melin\\anaconda3\\Lib\\site-packages\\luigi\\worker.py:426: UserWarning: Task LoadTask(target_table=climate_analysis) without outputs has no custom complete() method\n",
      "  is_complete = task.complete()\n",
      "DEBUG: Checking if TransformTask() is complete\n",
      "INFO: Informed scheduler that task   LoadTask_climate_analysis_d0ea38b10e   has status   PENDING\n",
      "INFO: Informed scheduler that task   TransformTask__99914b932b   has status   DONE\n",
      "INFO: Done scheduling tasks\n",
      "INFO: Running Worker with 1 processes\n",
      "DEBUG: Asking scheduler for work...\n",
      "DEBUG: Pending tasks: 1\n",
      "INFO: [pid 8884] Worker Worker(salt=3507287736, workers=1, host=LAPTOP-CLHSFIUK, username=melin, pid=8884) running   LoadTask(target_table=climate_analysis)\n",
      "INFO: [pid 8884] Worker Worker(salt=3507287736, workers=1, host=LAPTOP-CLHSFIUK, username=melin, pid=8884) done      LoadTask(target_table=climate_analysis)\n",
      "DEBUG: 1 running tasks, waiting for next task to finish\n",
      "INFO: Informed scheduler that task   LoadTask_climate_analysis_d0ea38b10e   has status   DONE\n",
      "DEBUG: Asking scheduler for work...\n",
      "DEBUG: Done\n",
      "DEBUG: There are no more tasks to run at this time\n",
      "INFO: Worker Worker(salt=3507287736, workers=1, host=LAPTOP-CLHSFIUK, username=melin, pid=8884) was stopped. Shutting down Keep-Alive thread\n",
      "INFO: \n",
      "===== Luigi Execution Summary =====\n",
      "\n",
      "Scheduled 2 tasks of which:\n",
      "* 1 complete ones were encountered:\n",
      "    - 1 TransformTask()\n",
      "* 1 ran successfully:\n",
      "    - 1 LoadTask(target_table=climate_analysis)\n",
      "\n",
      "This progress looks :) because there were no failed tasks or missing dependencies\n",
      "\n",
      "===== Luigi Execution Summary =====\n",
      "\n"
     ]
    },
    {
     "name": "stdout",
     "output_type": "stream",
     "text": [
      "Loaded data from data_transformed.csv to PostgreSQL table climate_analysis\n"
     ]
    }
   ],
   "source": [
    "import luigi\n",
    "import pymongo\n",
    "import csv\n",
    "import pandas as pd\n",
    "import psycopg2\n",
    "class ExtractTask(luigi.Task):\n",
    "    \n",
    "    def output(self):\n",
    "        return luigi.LocalTarget('data_extracted.csv')\n",
    "    \n",
    "    def run(self):\n",
    "        # Connect to MongoDB\n",
    "        client = pymongo.MongoClient(\"mongodb://localhost:27017/\")\n",
    "        db = client[\"DAP_Project\"]\n",
    "        collection = db[\"climate_analysis\"]\n",
    "        \n",
    "        cursor = collection.find({})\n",
    "        data = list(cursor)\n",
    "    \n",
    "        df = pd.DataFrame(data)\n",
    "        df.to_csv(self.output().path, index=False)\n",
    "\n",
    "class TransformTask(luigi.Task):\n",
    "    \n",
    "    def requires(self):\n",
    "        return ExtractTask() # Assuming ExtractTask is defined to extract data from MongoDB\n",
    "    \n",
    "    def input(self):\n",
    "        return luigi.LocalTarget(\"data_extracted.csv\")\n",
    "    \n",
    "    def output(self):\n",
    "        return luigi.LocalTarget('data_transformed.csv')\n",
    "    \n",
    "    def remove_outliers(self, df):\n",
    "        cols = ['temperature', 'co2_emissions']\n",
    "\n",
    "        for col in cols:\n",
    "            quartiles = df[col].quantile([0.20, 0.80])\n",
    "            q1 = quartiles.loc[0.20]\n",
    "            q3 = quartiles.loc[0.80]\n",
    "\n",
    "            low_bound = q1 - 1.5 * (q3 - q1)\n",
    "            upp_bound = q3 + 1.5 * (q3 - q1)\n",
    "\n",
    "            df = df[(df[col] >= low_bound) & (df[col] <= upp_bound)]\n",
    "\n",
    "        return df\n",
    "    \n",
    "    def run(self):\n",
    "        # Load the extracted data from the previous task\n",
    "        df = pd.read_csv(self.input().path)\n",
    "        \n",
    "        # Data cleaning steps\n",
    "        df = self.remove_outliers(df)\n",
    "        # Save the cleaned data to a new CSV file\n",
    "        df.to_csv(self.output().path, index=False)\n",
    "\n",
    "class LoadTask(luigi.Task):\n",
    "\n",
    "    # Parameters for the task \n",
    "    target_connection_string = luigi.Parameter(default=\"postgresql:http://localhost:5433/\")  # PostgreSQL connection string\n",
    "    target_connection_string = \"dbname=postgres user=postgres password=Melin@123 host=localhost port=5433\"\n",
    "\n",
    "    target_table = luigi.Parameter(default=\"climate_analysis\")  # Target table name\n",
    "\n",
    "    def requires(self):\n",
    "        return TransformTask()  # This task depends on the TransformTask\n",
    "\n",
    "    def input(self):\n",
    "        return luigi.LocalTarget(\"data_transformed.csv\")\n",
    "\n",
    "    def run(self):\n",
    "        # Connect to PostgreSQL\n",
    "        connection = psycopg2.connect(self.target_connection_string)\n",
    "        cursor = connection.cursor()\n",
    "\n",
    "        # Read the transformed data from the CSV file\n",
    "        df = pd.read_csv(self.input().path)\n",
    "\n",
    "        # Create the target table\n",
    "        create_table_query = f\"\"\"CREATE TABLE IF NOT EXISTS {self.target_table} (\n",
    "            row_id NUMERIC  , \n",
    "            id VARCHAR(255) NOT NULL PRIMARY KEY ,\n",
    "            date VARCHAR(255) NOT NULL,\n",
    "            country VARCHAR(255) NOT NULL,\n",
    "            location VARCHAR(255) NOT NULL,\n",
    "            temperature NUMERIC NOT NULL,\n",
    "            co2_emission NUMERIC NOT NULL,\n",
    "            sea_level_rise NUMERIC NOT NULL,\n",
    "            precipitation NUMERIC NOT NULL,\n",
    "            humidity NUMERIC NOT NULL,\n",
    "            windspeed NUMERIC NOT NULL\n",
    "        );\"\"\"\n",
    "        cursor.execute(create_table_query)\n",
    "\n",
    "        # Load data from the DataFrame to the target table\n",
    "        for index, row in df.iterrows():\n",
    "            #insert_query\n",
    "            sql = \"\"\"\n",
    "                INSERT INTO climate_analysis ( id,date,location,country,temperature,co2_emission,sea_level_rise,precipitation,humidity,windspeed)\n",
    "                VALUES ( %s, %s, %s, %s, %s, %s, %s, %s, %s, %s);\n",
    "            \"\"\"\n",
    "            values = tuple(row) \n",
    "            cursor.execute(sql, values)\n",
    "\n",
    "        connection.commit()\n",
    "        connection.close()\n",
    "\n",
    "        print(f\"Loaded data from {self.input().path} to PostgreSQL table {self.target_table}\")\n",
    "        \n",
    "if __name__ == \"__main__\":\n",
    "    luigi.build([LoadTask()], local_scheduler=True)  "
   ]
  },
  {
   "cell_type": "code",
   "execution_count": null,
   "id": "cb3f70ce-1457-4230-bb35-55c2b9525384",
   "metadata": {},
   "outputs": [],
   "source": []
  }
 ],
 "metadata": {
  "kernelspec": {
   "display_name": "Python 3 (ipykernel)",
   "language": "python",
   "name": "python3"
  },
  "language_info": {
   "codemirror_mode": {
    "name": "ipython",
    "version": 3
   },
   "file_extension": ".py",
   "mimetype": "text/x-python",
   "name": "python",
   "nbconvert_exporter": "python",
   "pygments_lexer": "ipython3",
   "version": "3.11.5"
  }
 },
 "nbformat": 4,
 "nbformat_minor": 5
}
